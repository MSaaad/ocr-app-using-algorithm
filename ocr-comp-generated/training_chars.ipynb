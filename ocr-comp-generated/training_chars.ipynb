{
 "cells": [
  {
   "cell_type": "markdown",
   "metadata": {},
   "source": [
    "# Notes\n",
    "\n",
    "size of a pixel neighborhood used to calculate threshold value\n",
    "\n",
    "input image, make sure to use a copy since the function will modify this image in the course of finding contours\n",
    "\n",
    "retrieve the outermost contours only\n",
    "\n",
    "compress horizontal, vertical, and diagonal segments and leave only their end points\n",
    "\n",
    "use gaussian rather than mean, seems to give better results\n",
    "\n",
    "\n",
    "declare empty classifications list, this will be our list of how we are classifying our chars from user input,we will write to file at the end"
   ]
  },
  {
   "cell_type": "markdown",
   "metadata": {},
   "source": [
    "# Training Characters in OCR - Computer generated texts"
   ]
  },
  {
   "cell_type": "code",
   "execution_count": null,
   "metadata": {},
   "outputs": [],
   "source": []
  },
  {
   "cell_type": "markdown",
   "metadata": {},
   "source": [
    "## Module import"
   ]
  },
  {
   "cell_type": "code",
   "execution_count": 1,
   "metadata": {},
   "outputs": [],
   "source": [
    "import sys\n",
    "import numpy as np\n",
    "import cv2\n",
    "import os\n"
   ]
  },
  {
   "cell_type": "markdown",
   "metadata": {},
   "source": [
    "## Image information"
   ]
  },
  {
   "cell_type": "code",
   "execution_count": 2,
   "metadata": {},
   "outputs": [],
   "source": [
    "MIN_CONTOUR_AREA = 100\n",
    "RESIZED_IMAGE_WIDTH = 20\n",
    "RESIZED_IMAGE_HEIGHT = 30\n"
   ]
  },
  {
   "cell_type": "markdown",
   "metadata": {},
   "source": [
    "## Image manipulation"
   ]
  },
  {
   "cell_type": "markdown",
   "metadata": {},
   "source": [
    "### Grayscale, threshold, contour formation and bounndaries inside the image itself(hierarchy)"
   ]
  },
  {
   "cell_type": "code",
   "execution_count": 3,
   "metadata": {},
   "outputs": [],
   "source": [
    "\n",
    "def main():\n",
    "    # read in training numbers image\n",
    "    train_char = cv2.imread(\"images/training_dataset.png\")\n",
    "\n",
    "    if train_char is None:                    \n",
    "        print(\"error: image not read from file \\n\\n\")\n",
    "        os.system(\"pause\")\n",
    "        return\n",
    "\n",
    " \n",
    "    imgGray = cv2.cvtColor(train_char, cv2.COLOR_BGR2GRAY)\n",
    "    imgBlurred = cv2.GaussianBlur(imgGray, (5, 5), 0)                      \n",
    "    \n",
    "    #input image\n",
    "    threshold_image = cv2.adaptiveThreshold(imgBlurred,255,cv2.ADAPTIVE_THRESH_GAUSSIAN_C,cv2.THRESH_BINARY_INV,11,2)\n",
    "    \n",
    "    # show threshold image for reference\n",
    "    cv2.imshow(\"threshold image\", threshold_image)\n",
    "\n",
    "    # make a copy of the thresh image, this in necessary b/c findContours modifies the image\n",
    "    threshold_imageCopy = threshold_image.copy()\n",
    "\n",
    "    Contours, Hierarchy = cv2.findContours(threshold_imageCopy,\n",
    "                                           cv2.RETR_EXTERNAL,\n",
    "                                           cv2.CHAIN_APPROX_SIMPLE)\n",
    "\n",
    "    # zero rows, enough cols to hold all image data\n",
    "    flattened_images = np.empty(\n",
    "        (0, RESIZED_IMAGE_WIDTH * RESIZED_IMAGE_HEIGHT))\n",
    "\n",
    "    classifications = []\n",
    "\n",
    "    valid_char = [ord('0'), ord('1'), ord('2'), ord('3'), ord('4'), ord('5'), ord('6'), ord('7'), ord('8'), ord('9'),\n",
    "                  ord('A'), ord('B'), ord('C'), ord('D'), ord('E'), ord(\n",
    "        'F'), ord('G'), ord('H'), ord('I'), ord('J'),\n",
    "        ord('K'), ord('L'), ord('M'), ord('N'), ord('O'), ord(\n",
    "        'P'), ord('Q'), ord('R'), ord('S'), ord('T'),\n",
    "        ord('U'), ord('V'), ord('W'), ord('X'), ord('Y'), ord('Z')]\n",
    "    \n",
    "    for Contour in Contours:\n",
    "        # if contour is big enough to consider\n",
    "        if cv2.contourArea(Contour) > MIN_CONTOUR_AREA:\n",
    "            [intX, intY, intW, intH] = cv2.boundingRect(\n",
    "                Contour)         # get and break out bounding rect\n",
    "\n",
    "            # draw rectangle around each contour for input\n",
    "            cv2.rectangle(train_char,         # draw rectangle on original training image\n",
    "                          (intX, intY),                 \n",
    "                          (intX+intW, intY+intH),        \n",
    "                          (255, 0, 255),                 \n",
    "                          3)                            \n",
    "\n",
    "            # crop char out of threshold image\n",
    "            imgROI = threshold_image[intY:intY+intH, intX:intX+intW]\n",
    "            \n",
    "            # resize image, this will be more consistent for recognition and storage\n",
    "            imgROIResized = cv2.resize(\n",
    "                imgROI, (RESIZED_IMAGE_WIDTH, RESIZED_IMAGE_HEIGHT))\n",
    "\n",
    "            # cropped out char for ref\n",
    "            cv2.imshow(\"imgROI\", imgROI)\n",
    "            \n",
    "            # resized image for reference\n",
    "            cv2.imshow(\"imgROIResized\", imgROIResized)\n",
    "            \n",
    "            # training numbers image, rectangles over it\n",
    "            cv2.imshow(\"training_numbers.png\", train_char)\n",
    "\n",
    "            intChar = cv2.waitKey(0)\n",
    "            if intChar == 27:\n",
    "                sys.exit()\n",
    "            elif intChar in valid_char:\n",
    "\n",
    "                # append classification char to integer list of chars\n",
    "                classifications.append(intChar)\n",
    "\n",
    "                # flatten image to 1d numpy array so we can write to file later\n",
    "                single_flattened_image = imgROIResized.reshape(\n",
    "                    (1, RESIZED_IMAGE_WIDTH * RESIZED_IMAGE_HEIGHT))\n",
    "                \n",
    "                # add current flattened impage numpy array to list of flattened image numpy arrays\n",
    "                flattened_images = np.append(\n",
    "                    flattened_images, single_flattened_image, 0)\n",
    "    \n",
    "    # convert classifications list of ints to numpy array of floats\n",
    "    float_classification = np.array(classifications, np.float32)\n",
    "\n",
    "    # flatten numpy array of floats to 1d so we can write to file later\n",
    "    npaClassifications = float_classification.reshape(\n",
    "        (float_classification.size, 1))\n",
    "\n",
    "    print(\"\\nTraining completed\\n\")\n",
    "\n",
    "    # write scanned image metadata to files\n",
    "    np.savetxt(\"data-files/classifications.txt\", npaClassifications)\n",
    "    np.savetxt(\"data-files/flattened_images.txt\", flattened_images)\n",
    "\n",
    "    cv2.destroyAllWindows()\n",
    "\n",
    "    return\n"
   ]
  },
  {
   "cell_type": "markdown",
   "metadata": {},
   "source": [
    "## Final result"
   ]
  },
  {
   "cell_type": "code",
   "execution_count": null,
   "metadata": {},
   "outputs": [],
   "source": [
    "\n",
    "if __name__ == \"__main__\":\n",
    "    main()"
   ]
  },
  {
   "cell_type": "code",
   "execution_count": null,
   "metadata": {},
   "outputs": [],
   "source": []
  },
  {
   "cell_type": "code",
   "execution_count": null,
   "metadata": {},
   "outputs": [],
   "source": []
  }
 ],
 "metadata": {
  "kernelspec": {
   "display_name": "Python 3",
   "language": "python",
   "name": "python3"
  },
  "language_info": {
   "codemirror_mode": {
    "name": "ipython",
    "version": 3
   },
   "file_extension": ".py",
   "mimetype": "text/x-python",
   "name": "python",
   "nbconvert_exporter": "python",
   "pygments_lexer": "ipython3",
   "version": "3.8.5"
  }
 },
 "nbformat": 4,
 "nbformat_minor": 4
}
