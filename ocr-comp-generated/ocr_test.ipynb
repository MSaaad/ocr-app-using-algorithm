{
 "cells": [
  {
   "cell_type": "markdown",
   "metadata": {},
   "source": [
    "## Notes:\n",
    "\n",
    " filter image from grayscale to black and white\n",
    " make pixels that pass the threshold full white\n",
    " use gaussian rather than mean, seems to give better results\n",
    " invert so foreground will be white, background will be black\n",
    " size of a pixel neighborhood used to calculate threshold value\n",
    " constant subtracted from the mean or weighted mean\n",
    " input image, make sure to use a copy since the function will modify this image in the course of finding contours\n",
    " compress horizontal, vertical, and diagonal segments and leave only their end points"
   ]
  },
  {
   "cell_type": "markdown",
   "metadata": {},
   "source": [
    "# OCR - Computer generated texts"
   ]
  },
  {
   "cell_type": "markdown",
   "metadata": {},
   "source": [
    "## Import modules"
   ]
  },
  {
   "cell_type": "code",
   "execution_count": 1,
   "metadata": {},
   "outputs": [],
   "source": [
    "\n",
    "import cv2\n",
    "import numpy as np\n",
    "import operator\n",
    "import os\n",
    "# import argparse\n",
    "import easygui\n"
   ]
  },
  {
   "cell_type": "markdown",
   "metadata": {},
   "source": [
    "## Image dataset information"
   ]
  },
  {
   "cell_type": "code",
   "execution_count": 2,
   "metadata": {},
   "outputs": [],
   "source": [
    "\n",
    "MIN_CONTOUR_AREA = 100\n",
    "RESIZED_IMAGE_WIDTH = 20\n",
    "RESIZED_IMAGE_HEIGHT = 30\n"
   ]
  },
  {
   "cell_type": "markdown",
   "metadata": {},
   "source": [
    "## Bounding rectangle"
   ]
  },
  {
   "cell_type": "code",
   "execution_count": 3,
   "metadata": {},
   "outputs": [],
   "source": [
    "\n",
    "class ContourWithData():\n",
    "    Contour = None           # contour\n",
    "    boundingRect = None       \n",
    "    intRectX = 0                \n",
    "    intRectY = 0            \n",
    "    intRectWidth = 0           \n",
    "    intRectHeight = 0         \n",
    "    fltArea = 0.0              \n",
    "\n",
    "    # calculate bounding rect info\n",
    "    def calculateRectTopLeftPointAndWidthAndHeight(self):\n",
    "        [intX, intY, intWidth, intHeight] = self.boundingRect\n",
    "        self.intRectX = intX\n",
    "        self.intRectY = intY\n",
    "        self.intRectWidth = intWidth\n",
    "        self.intRectHeight = intHeight\n",
    "\n",
    "    def checkIfContourIsValid(self):\n",
    "        if self.fltArea < MIN_CONTOUR_AREA:\n",
    "            return False        # much better validity\n",
    "        return True\n",
    "\n"
   ]
  },
  {
   "cell_type": "markdown",
   "metadata": {},
   "source": [
    "## Data and information inside contours"
   ]
  },
  {
   "cell_type": "code",
   "execution_count": 4,
   "metadata": {},
   "outputs": [],
   "source": [
    "def main():\n",
    "    allContoursWithData = []\n",
    "    validContoursWithData = []\n",
    "\n",
    "    try:\n",
    "        # read in training classifications\n",
    "        Classifications = np.loadtxt(\n",
    "            \"data-files/classifications.txt\", np.float32)\n",
    "    except:\n",
    "        print(\"error, unable to open classifications.txt, exiting program\\n\")\n",
    "        os.system(\"pause\")\n",
    "        return\n",
    "\n",
    "    try:\n",
    "        # read in training images\n",
    "        FlattenedImages = np.loadtxt(\n",
    "            \"data-files/flattened_images.txt\", np.float32)\n",
    "    except:\n",
    "        print(\"error, unable to open flattened_images.txt, exiting program\\n\")\n",
    "        os.system(\"pause\")\n",
    "        return\n",
    "\n",
    "    # reshape numpy array to 1d, necessary to pass to call to train\n",
    "    Classifications = Classifications.reshape(\n",
    "        (Classifications.size, 1))\n",
    "    kNearest = cv2.ml.KNearest_create()       # instantiate KNN object\n",
    "    kNearest.train(FlattenedImages, cv2.ml.ROW_SAMPLE, Classifications)\n",
    "    image_picked = easygui.fileopenbox()\n",
    "\n",
    "    inputTestingImage = cv2.imread(image_picked)\n",
    "    if inputTestingImage is None:               \n",
    "        print(\"error: image not read from file \\n\\n\")\n",
    "        os.system(\"pause\")\n",
    "        return\n",
    "\n",
    "    imgGray = cv2.cvtColor(inputTestingImage, cv2.COLOR_BGR2GRAY)\n",
    "    imgBlurred = cv2.GaussianBlur(imgGray, (5, 5), 0)                \n",
    "\n",
    "    imgThresh = cv2.adaptiveThreshold(\n",
    "        imgBlurred, 255, cv2.ADAPTIVE_THRESH_GAUSSIAN_C, cv2.THRESH_BINARY_INV, 11, 2)\n",
    "    imgThreshCopy = imgThresh.copy()\n",
    "\n",
    "    Contours, Hierarchy = cv2.findContours(imgThreshCopy,            \n",
    "                                           cv2.RETR_EXTERNAL,        \n",
    "                                           cv2.CHAIN_APPROX_SIMPLE)  \n",
    "\n",
    "    for Contour in Contours:\n",
    "        # instantiate a contour with data object\n",
    "        contourWithData = ContourWithData()\n",
    "        # assign contour to contour with data\n",
    "        contourWithData.Contour = Contour\n",
    "        contourWithData.boundingRect = cv2.boundingRect(\n",
    "            contourWithData.Contour)     # get the bounding rect\n",
    "        contourWithData.calculateRectTopLeftPointAndWidthAndHeight(\n",
    "        )                    # get bounding rect info\n",
    "        contourWithData.fltArea = cv2.contourArea(\n",
    "            contourWithData.Contour)           # calculate the contour area\n",
    "        \n",
    "        # add contour with data object to list of all contours with data\n",
    "        allContoursWithData.append(contourWithData)\n",
    "\n",
    "    for contourWithData in allContoursWithData:\n",
    "        if contourWithData.checkIfContourIsValid():\n",
    "\n",
    "            # if so, append to valid contour list\n",
    "            validContoursWithData.append(contourWithData)\n",
    "\n",
    "    validContoursWithData.sort(key=operator.attrgetter(\n",
    "        \"intRectX\"))         # sort contours from left to right\n",
    "\n",
    "    # declare final string\n",
    "    string_output = \"\"\n",
    "\n",
    "    for contourWithData in validContoursWithData:\n",
    "\n",
    "        # draw a border rect around the current char\n",
    "        cv2.rectangle(inputTestingImage,              # draw rectangle on original testing image\n",
    "                   \n",
    "                      (contourWithData.intRectX, contourWithData.intRectY),\n",
    "                      (contourWithData.intRectX + contourWithData.intRectWidth,\n",
    "                       contourWithData.intRectY + contourWithData.intRectHeight),     \n",
    "                      (155, 200, 50),  \n",
    "                      2)                       \n",
    "\n",
    "        imgROI = imgThresh[contourWithData.intRectY: contourWithData.intRectY + contourWithData.intRectHeight, # crop char out of threshold image\n",
    "                           contourWithData.intRectX: contourWithData.intRectX + contourWithData.intRectWidth]\n",
    "\n",
    "        # resize image, recoginition and consitent\n",
    "        imgROIResized = cv2.resize(\n",
    "            imgROI, (RESIZED_IMAGE_WIDTH, RESIZED_IMAGE_HEIGHT))\n",
    "\n",
    "        # flatten image into 1d numpy array\n",
    "        ROIResized = imgROIResized.reshape(\n",
    "            (1, RESIZED_IMAGE_WIDTH * RESIZED_IMAGE_HEIGHT))\n",
    "\n",
    "        # convert from 1d numpy array of ints to 1d numpy array of floats\n",
    "        ROIResized = np.float32(ROIResized)\n",
    "\n",
    "        retval, Results, neigh_resp, dists = kNearest.findNearest(\n",
    "            ROIResized, k=1)     # call KNN function to findnearest\n",
    "\n",
    "       \n",
    "        strCurrentChar = str(chr(int(Results[0][0])))\n",
    "\n",
    "        \n",
    "        string_output = string_output + strCurrentChar\n",
    "\n",
    "    print(\"\\n\" + 'Recognized character output:', string_output + \"\\n\")\n",
    "\n",
    "    with open('recognized_output.txt', 'a+') as text_file:\n",
    "        print('Recognized character output:', string_output, file=text_file)\n",
    "\n",
    "    # show input image with border boxes drawn around found digits\n",
    "    cv2.imshow(\"Input Test Image\", inputTestingImage)\n",
    "    cv2.waitKey(0)\n",
    "\n",
    "    cv2.destroyAllWindows()\n",
    "    return\n"
   ]
  },
  {
   "cell_type": "code",
   "execution_count": null,
   "metadata": {},
   "outputs": [],
   "source": [
    "   "
   ]
  },
  {
   "cell_type": "code",
   "execution_count": null,
   "metadata": {},
   "outputs": [],
   "source": []
  },
  {
   "cell_type": "code",
   "execution_count": 5,
   "metadata": {},
   "outputs": [
    {
     "name": "stdout",
     "output_type": "stream",
     "text": [
      "\n",
      "Recognized character output: MUHAMMADSAAD92\n",
      "\n"
     ]
    }
   ],
   "source": [
    "if __name__ == \"__main__\":\n",
    "    main()\n"
   ]
  }
 ],
 "metadata": {
  "kernelspec": {
   "display_name": "Python 3",
   "language": "python",
   "name": "python3"
  },
  "language_info": {
   "codemirror_mode": {
    "name": "ipython",
    "version": 3
   },
   "file_extension": ".py",
   "mimetype": "text/x-python",
   "name": "python",
   "nbconvert_exporter": "python",
   "pygments_lexer": "ipython3",
   "version": "3.8.5"
  }
 },
 "nbformat": 4,
 "nbformat_minor": 4
}
